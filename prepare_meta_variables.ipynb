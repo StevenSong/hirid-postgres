{
 "cells": [
  {
   "cell_type": "code",
   "execution_count": null,
   "metadata": {},
   "outputs": [],
   "source": [
    "import numpy as np\n",
    "import pandas as pd\n",
    "from pathlib import Path\n",
    "\n",
    "hirid = Path(\"/opt/gpudata/hirid\")"
   ]
  },
  {
   "cell_type": "code",
   "execution_count": null,
   "metadata": {},
   "outputs": [
    {
     "data": {
      "text/plain": [
       "MetaVariableID      int64\n",
       "MetaVariableName       30\n",
       "MetaVariableUnit      172\n",
       "VariableID          int64\n",
       "Type                    9\n",
       "dtype: object"
      ]
     },
     "execution_count": 2,
     "metadata": {},
     "output_type": "execute_result"
    }
   ],
   "source": [
    "varref = pd.read_csv(\"../circEWS/preprocessing/resource/varref_excel_v6.tsv\", sep=\"\\t\", encoding='ISO-8859-1')\n",
    "varref = varref[[\"MetaVariableID\", \"MetaVariableName\", \"MetaVariableUnit\", \"VariableID\", \"Type\"]]\n",
    "varref = varref[varref[\"VariableID\"].apply(float.is_integer)]\n",
    "varref[\"VariableID\"] = varref[\"VariableID\"].astype(int)\n",
    "varref.to_csv(\"var_meta.csv\", index=False)\n",
    "varref.apply(lambda x: x.dtype if x.dtype != object else int(x.str.len().max()), axis=0)"
   ]
  },
  {
   "cell_type": "code",
   "execution_count": null,
   "metadata": {},
   "outputs": [
    {
     "data": {
      "text/plain": [
       "MetaVariableID      int64\n",
       "MetaVariableName       28\n",
       "VariableID          int64\n",
       "dtype: object"
      ]
     },
     "execution_count": 3,
     "metadata": {},
     "output_type": "execute_result"
    }
   ],
   "source": [
    "labref = pd.read_csv(\"../circEWS/preprocessing/resource/labref_excel_v6.tsv\", sep=\"\\t\", encoding='ISO-8859-1')\n",
    "labref = labref[[\"MetaVariableID\", \"VariableName\", \"VariableID\"]]\n",
    "labref = labref.rename(columns={\"VariableName\": \"MetaVariableName\"})\n",
    "labref.to_csv(\"lab_meta.csv\", index=False)\n",
    "labref.apply(lambda x: x.dtype if x.dtype != object else int(x.str.len().max()), axis=0)"
   ]
  },
  {
   "cell_type": "code",
   "execution_count": null,
   "metadata": {},
   "outputs": [],
   "source": []
  }
 ],
 "metadata": {
  "kernelspec": {
   "display_name": "state",
   "language": "python",
   "name": "python3"
  },
  "language_info": {
   "codemirror_mode": {
    "name": "ipython",
    "version": 3
   },
   "file_extension": ".py",
   "mimetype": "text/x-python",
   "name": "python",
   "nbconvert_exporter": "python",
   "pygments_lexer": "ipython3",
   "version": "3.10.14"
  }
 },
 "nbformat": 4,
 "nbformat_minor": 2
}
